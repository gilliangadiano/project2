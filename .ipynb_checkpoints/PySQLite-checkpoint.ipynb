{
 "cells": [
  {
   "cell_type": "code",
   "execution_count": 10,
   "metadata": {},
   "outputs": [],
   "source": [
    "import sqlite3\n",
    "conn = sqlite3.connect('YouTube_Viz.sqlite')\n"
   ]
  },
  {
   "cell_type": "code",
   "execution_count": 20,
   "metadata": {},
   "outputs": [],
   "source": [
    "import pandas as pd"
   ]
  },
  {
   "cell_type": "code",
   "execution_count": 9,
   "metadata": {},
   "outputs": [],
   "source": [
    "# Import SQL Alchemy\n",
    "from sqlalchemy import create_engine\n",
    "\n",
    "# Import and establish Base for which classes will be constructed \n",
    "from sqlalchemy.ext.declarative import declarative_base\n",
    "Base = declarative_base()\n",
    "\n",
    "# Import modules to declare columns and column data types\n",
    "from sqlalchemy import Column, Integer, String, Float"
   ]
  },
  {
   "cell_type": "code",
   "execution_count": 12,
   "metadata": {},
   "outputs": [],
   "source": [
    "# Create Channel and Video classes\n",
    "# ----------------------------------\n",
    "class Channel(Base):\n",
    "    __tablename__ = 'channel'\n",
    "    id = Column(Integer, primary_key=True)\n",
    "    Channel_Id = Column(Integer)\n",
    "    Name = Column(String(255))\n",
    "    Channel_Description = Column(String(255))\n",
    "    Published_Date = Column(String(255))\n",
    "    Country = Column(String(255))\n",
    "    View_Count = Column(Integer)\n",
    "    Comment_Count = Column(String(255))\n",
    "    Subscriber_Count = Column(Integer)\n",
    "    Video_Counts = Column(Integer)\n",
    "    Banner_Image = Column(String(800))\n",
    "\n",
    "# class Video(Base):\n",
    "#     __tablename__ = 'video'\n",
    "#     id = Column(Integer, primary_key=True)\n",
    "#     surfer_id = Column(Integer)\n",
    "#     board_name = Column(String(255))\n",
    "#     color = Column(String(255))\n",
    "#     length = Column(Integer)"
   ]
  },
  {
   "cell_type": "code",
   "execution_count": 13,
   "metadata": {},
   "outputs": [],
   "source": [
    "# Create Database Connection\n",
    "# ----------------------------------\n",
    "engine = create_engine(\"sqlite:///YouTube_Viz.sqlite\")\n",
    "conn = engine.connect()"
   ]
  },
  {
   "cell_type": "code",
   "execution_count": 15,
   "metadata": {},
   "outputs": [],
   "source": [
    "# Create both the Surfer and Board tables within the database\n",
    "Base.metadata.create_all(conn)"
   ]
  },
  {
   "cell_type": "code",
   "execution_count": 16,
   "metadata": {},
   "outputs": [],
   "source": [
    "# To push the objects made and query the server we use a Session object\n",
    "from sqlalchemy.orm import Session\n",
    "session = Session(bind=engine)"
   ]
  },
  {
   "cell_type": "code",
   "execution_count": 24,
   "metadata": {},
   "outputs": [
    {
     "data": {
      "text/html": [
       "<div>\n",
       "<style scoped>\n",
       "    .dataframe tbody tr th:only-of-type {\n",
       "        vertical-align: middle;\n",
       "    }\n",
       "\n",
       "    .dataframe tbody tr th {\n",
       "        vertical-align: top;\n",
       "    }\n",
       "\n",
       "    .dataframe thead th {\n",
       "        text-align: right;\n",
       "    }\n",
       "</style>\n",
       "<table border=\"1\" class=\"dataframe\">\n",
       "  <thead>\n",
       "    <tr style=\"text-align: right;\">\n",
       "      <th></th>\n",
       "      <th>Channel_Id</th>\n",
       "      <th>Name</th>\n",
       "      <th>Country</th>\n",
       "    </tr>\n",
       "  </thead>\n",
       "  <tbody>\n",
       "    <tr>\n",
       "      <th>0</th>\n",
       "      <td>1</td>\n",
       "      <td>ZeeTv</td>\n",
       "      <td>US</td>\n",
       "    </tr>\n",
       "    <tr>\n",
       "      <th>1</th>\n",
       "      <td>2</td>\n",
       "      <td>ErosNow</td>\n",
       "      <td>UK</td>\n",
       "    </tr>\n",
       "  </tbody>\n",
       "</table>\n",
       "</div>"
      ],
      "text/plain": [
       "   Channel_Id     Name Country\n",
       "0           1    ZeeTv      US\n",
       "1           2  ErosNow      UK"
      ]
     },
     "execution_count": 24,
     "metadata": {},
     "output_type": "execute_result"
    }
   ],
   "source": [
    "\n",
    "#-------------------------------------------------\n",
    "#example data frame - replace with actual data \n",
    "#-------------------------------------------------\n",
    "\n",
    "df = pd.DataFrame({\n",
    "    'Channel_Id':[1, 2],\n",
    "    'Name': ['ZeeTv','ErosNow'],\n",
    "    'Country': ['US', 'UK']\n",
    "})\n",
    "\n",
    "df.head()"
   ]
  },
  {
   "cell_type": "code",
   "execution_count": 28,
   "metadata": {},
   "outputs": [],
   "source": [
    "# create a loop for channels and add to DB \n",
    "for index, row in df.iterrows():\n",
    "    name = row['Name']\n",
    "    channel_id = row['Channel_Id']\n",
    "    country = row['Country']\n",
    "    \n",
    "    channel = Channel(Name=name, Channel_Id = channel_id, Country=country)\n",
    "    session.add(channel)\n",
    "\n",
    "    \n",
    "    "
   ]
  },
  {
   "cell_type": "code",
   "execution_count": 29,
   "metadata": {},
   "outputs": [],
   "source": [
    "#Commit all objects to the database    \n",
    "session.commit()"
   ]
  },
  {
   "cell_type": "code",
   "execution_count": 30,
   "metadata": {},
   "outputs": [
    {
     "name": "stdout",
     "output_type": "stream",
     "text": [
      "ZeeTV\n",
      "98372\n",
      "US\n",
      "ZeeTv\n",
      "1\n",
      "US\n",
      "ErosNow\n",
      "2\n",
      "UK\n"
     ]
    }
   ],
   "source": [
    "# Query the database and collect all of the surfers in the Surfer table\n",
    "channel_list = session.query(Channel)\n",
    "for channel in channel_list:\n",
    "    print(channel.Name)\n",
    "    print(channel.Channel_Id)\n",
    "    print(channel.Country)"
   ]
  },
  {
   "cell_type": "code",
   "execution_count": 36,
   "metadata": {},
   "outputs": [],
   "source": [
    "#-------------------------------------\n",
    "# Retrieve data using SQLAlchemy\n",
    "#------------------------------------\n",
    "\n",
    "# Query all passengers\n",
    "results = session.query(Channel).all()\n",
    "\n",
    "# Create a dictionary from the row data and append to a list of all_passengers\n",
    "all_channels = []\n",
    "for channel in results:\n",
    "    channel_dict = {}\n",
    "    channel_dict[\"Name\"] = channel.Name\n",
    "    channel_dict[\"Channel_Id\"] = channel.Channel_Id\n",
    "    channel_dict[\"Country\"] = channel.Country\n",
    "    all_channels.append(channel_dict)"
   ]
  },
  {
   "cell_type": "code",
   "execution_count": 41,
   "metadata": {},
   "outputs": [],
   "source": [
    "#-------------------------------------\n",
    "# Write to CSV\n",
    "#------------------------------------channel_df = pd.DataFrame(all_channels)\n",
    "channel_df.to_csv(\"data/channel.csv\")"
   ]
  },
  {
   "cell_type": "code",
   "execution_count": 39,
   "metadata": {},
   "outputs": [
    {
     "data": {
      "text/html": [
       "<div>\n",
       "<style scoped>\n",
       "    .dataframe tbody tr th:only-of-type {\n",
       "        vertical-align: middle;\n",
       "    }\n",
       "\n",
       "    .dataframe tbody tr th {\n",
       "        vertical-align: top;\n",
       "    }\n",
       "\n",
       "    .dataframe thead th {\n",
       "        text-align: right;\n",
       "    }\n",
       "</style>\n",
       "<table border=\"1\" class=\"dataframe\">\n",
       "  <thead>\n",
       "    <tr style=\"text-align: right;\">\n",
       "      <th></th>\n",
       "      <th>Channel_Id</th>\n",
       "      <th>Country</th>\n",
       "      <th>Name</th>\n",
       "    </tr>\n",
       "  </thead>\n",
       "  <tbody>\n",
       "    <tr>\n",
       "      <th>0</th>\n",
       "      <td>98372</td>\n",
       "      <td>US</td>\n",
       "      <td>ZeeTV</td>\n",
       "    </tr>\n",
       "    <tr>\n",
       "      <th>1</th>\n",
       "      <td>1</td>\n",
       "      <td>US</td>\n",
       "      <td>ZeeTv</td>\n",
       "    </tr>\n",
       "    <tr>\n",
       "      <th>2</th>\n",
       "      <td>2</td>\n",
       "      <td>UK</td>\n",
       "      <td>ErosNow</td>\n",
       "    </tr>\n",
       "  </tbody>\n",
       "</table>\n",
       "</div>"
      ],
      "text/plain": [
       "   Channel_Id Country     Name\n",
       "0       98372      US    ZeeTV\n",
       "1           1      US    ZeeTv\n",
       "2           2      UK  ErosNow"
      ]
     },
     "execution_count": 39,
     "metadata": {},
     "output_type": "execute_result"
    }
   ],
   "source": [
    "channel_df"
   ]
  },
  {
   "cell_type": "code",
   "execution_count": null,
   "metadata": {},
   "outputs": [],
   "source": []
  }
 ],
 "metadata": {
  "kernelspec": {
   "display_name": "Python 3",
   "language": "python",
   "name": "python3"
  },
  "language_info": {
   "codemirror_mode": {
    "name": "ipython",
    "version": 3
   },
   "file_extension": ".py",
   "mimetype": "text/x-python",
   "name": "python",
   "nbconvert_exporter": "python",
   "pygments_lexer": "ipython3",
   "version": "3.7.0"
  }
 },
 "nbformat": 4,
 "nbformat_minor": 2
}
